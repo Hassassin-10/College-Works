{
 "cells": [
  {
   "cell_type": "markdown",
   "id": "9fe49f41",
   "metadata": {},
   "source": [
    "1.a Develop a program to read the student details like Name, USN, and Marks in three subjects. Display the student details, total marks and percentage with suitable messages."
   ]
  },
  {
   "cell_type": "code",
   "execution_count": 2,
   "id": "503b1d71",
   "metadata": {},
   "outputs": [
    {
     "name": "stdout",
     "output_type": "stream",
     "text": [
      "Enter the name of the student : Sigma\n",
      "Enter the USN of the student : Sigma@1\n",
      "Enter marks in Subject 1 : 100\n",
      "Enter marks in Subject 2 : 98\n",
      "Enter marks in Subject 3 : 94\n",
      "Student Details\n",
      "\n",
      "Name : Sigma\n",
      "USN : Sigma@1\n",
      "Marks 1 : 100\n",
      "Marks 2 : 98\n",
      "Marks 3 : 94\n",
      "Total : 292\n",
      "Percent : 97.33333333333333\n",
      "Distinction\n"
     ]
    }
   ],
   "source": [
    "stName = input(\"Enter the name of the student : \")\n",
    "stUSN = input(\"Enter the USN of the student : \")\n",
    "stMarks1 = int(input(\"Enter marks in Subject 1 : \"))\n",
    "stMarks2 = int(input(\"Enter marks in Subject 2 : \"))\n",
    "stMarks3 = int(input(\"Enter marks in Subject 3 : \"))\n",
    "total=stMarks1+stMarks2+stMarks3\n",
    "percentage=total/3\n",
    "print(\"Student Details\\n\")\n",
    "print(\"Name :\", stName)\n",
    "print(\"USN :\", stUSN)\n",
    "print(\"Marks 1 :\", stMarks1)\n",
    "print(\"Marks 2 :\", stMarks2)\n",
    "print(\"Marks 3 :\", stMarks3)\n",
    "print(\"Total :\",total )\n",
    "print(\"Percent :\",percentage)\n",
    "if percentage>=90:\n",
    "    print(\"Distinction\")\n",
    "elif percentage>=75 and percentage<90:\n",
    "    print(\"first class \")\n",
    "elif percentage>=60 and percentage<75:\n",
    "    print(\"second class\")\n",
    "elif percentage >=35 and percentage<60:\n",
    "    print(\"just pass\")\n",
    "else:\n",
    "    print(\"fail\")"
   ]
  },
  {
   "cell_type": "markdown",
   "id": "d8f6b78e",
   "metadata": {},
   "source": [
    "1.b .Develop a program to read the name and year of birth of a person. Display whether\n",
    "the personis a senior citizen or not."
   ]
  },
  {
   "cell_type": "code",
   "execution_count": 3,
   "id": "0d5b3e89",
   "metadata": {},
   "outputs": [
    {
     "name": "stdout",
     "output_type": "stream",
     "text": [
      "Enter the name of the person : Sigma\n",
      "Enter his year of birth : 1888\n",
      "Sigma aged 136 years is a Senior Citizen.\n"
     ]
    }
   ],
   "source": [
    "from datetime import date\n",
    "perName = input(\"Enter the name of the person : \")\n",
    "perDOB = int(input(\"Enter his year of birth : \"))\n",
    "curYear = date.today().year\n",
    "perAge = curYear - perDOB\n",
    "if (perAge > 60):\n",
    "    print(perName, \"aged\", perAge, \"years is a Senior Citizen.\")\n",
    "else:\n",
    "    print(perName, \"aged\", perAge, \"years is not a Senior Citizen.\")"
   ]
  },
  {
   "cell_type": "markdown",
   "id": "7416d351",
   "metadata": {},
   "source": [
    "2.a. Develop a program to generate Fibonacci sequence of length (N). Read N from the\n",
    "console."
   ]
  },
  {
   "cell_type": "code",
   "execution_count": 4,
   "id": "cf382f80",
   "metadata": {},
   "outputs": [
    {
     "name": "stdout",
     "output_type": "stream",
     "text": [
      "Enter the Fibonacci sequence length to be generated : 5\n",
      "The Fibonacci series with 5 terms is :\n",
      "0\n",
      "1\n",
      "1\n",
      "2\n",
      "3\n"
     ]
    }
   ],
   "source": [
    "num = int(input(\"Enter the Fibonacci sequence length to be generated : \"))\n",
    "firstTerm = 0\n",
    "secondTerm = 1\n",
    "print(\"The Fibonacci series with\", num, \"terms is :\")\n",
    "print(firstTerm)\n",
    "print(secondTerm)\n",
    "for i in range(2,num):\n",
    "    curTerm = firstTerm + secondTerm\n",
    "    print(curTerm)\n",
    "    firstTerm = secondTerm\n",
    "    secondTerm = curTerm"
   ]
  },
  {
   "cell_type": "markdown",
   "id": "4874cac0",
   "metadata": {},
   "source": [
    "2.b. Write a function to calculate factorial of a number. Develop a program to compute binomial\n",
    "coefficient (Given N and R)."
   ]
  },
  {
   "cell_type": "code",
   "execution_count": 5,
   "id": "30c694ae",
   "metadata": {},
   "outputs": [
    {
     "name": "stdout",
     "output_type": "stream",
     "text": [
      "Enter the value of N : 5\n",
      "Enter the value of R (R cannot be negative or greater than N): 2\n",
      "5 C 2 = 10.0\n"
     ]
    }
   ],
   "source": [
    "def fact(num):\n",
    "    if num == 0:\n",
    "        return 1\n",
    "    else:\n",
    "        return num * fact(num-1)\n",
    "n = int(input(\"Enter the value of N : \"))\n",
    "r = int(input(\"Enter the value of R (R cannot be negative or greater than N): \"))\n",
    "nCr = fact(n)/(fact(r)*fact(n-r))\n",
    "print(n,'C',r,'=',nCr)"
   ]
  },
  {
   "cell_type": "markdown",
   "id": "5b8af373",
   "metadata": {},
   "source": [
    "3. Read N numbers from the console and create a list. Develop a program to print mean,\n",
    "variance and standard deviation with suitable messages."
   ]
  },
  {
   "cell_type": "code",
   "execution_count": 7,
   "id": "4e612204",
   "metadata": {},
   "outputs": [
    {
     "name": "stdout",
     "output_type": "stream",
     "text": [
      "Enter the number of elements in your list : 5\n",
      "Enter the element : 1\n",
      "Enter the element : 2\n",
      "Enter the element : 3\n",
      "Enter the element : 4\n",
      "Enter the element : 5\n",
      "The length of list1 is 5\n",
      "List Contents [1, 2, 3, 4, 5]\n",
      "Mean = 3.0\n",
      "Variance = 2.0\n",
      "Standard Deviation = 1.4142135623730951\n"
     ]
    }
   ],
   "source": [
    "from math import sqrt\n",
    "myList = [ ]\n",
    "num = int(input(\"Enter the number of elements in your list : \"))\n",
    "for i in range(num):\n",
    "    val = int(input(\"Enter the element : \"))\n",
    "    myList.append(val)\n",
    "print(\"The length of list1 is\",len(myList))\n",
    "length=len(myList)\n",
    "print(\"List Contents\", myList)\n",
    "total = 0\n",
    "for elem in myList:\n",
    "    total += elem #total=total+elem\n",
    "mean = total / num\n",
    "total = 0\n",
    "for elem in myList:\n",
    "    total += (elem - mean) * (elem - mean) # square(elem-mean)\n",
    "variance = total / num\n",
    "stdDev = sqrt(variance)\n",
    "print(\"Mean =\", mean)\n",
    "print(\"Variance =\", variance)\n",
    "print(\"Standard Deviation =\", stdDev)"
   ]
  },
  {
   "cell_type": "markdown",
   "id": "7d515ef9",
   "metadata": {},
   "source": [
    "4. Read a multi-digit number (as chars) from the console. Develop a program to print the frequency of\n",
    "each digit with suitable message."
   ]
  },
  {
   "cell_type": "code",
   "execution_count": 9,
   "id": "baafe6f1",
   "metadata": {},
   "outputs": [
    {
     "name": "stdout",
     "output_type": "stream",
     "text": [
      "Enter a number : 121216251712781618925\n",
      "The number entered is : 121216251712781618925\n",
      "{'6', '2', '7', '5', '8', '9', '1'}\n",
      "6 occurs 2 times\n",
      "2 occurs 5 times\n",
      "7 occurs 2 times\n",
      "5 occurs 2 times\n",
      "8 occurs 2 times\n",
      "9 occurs 1 times\n",
      "1 occurs 7 times\n"
     ]
    }
   ],
   "source": [
    "num = input(\"Enter a number : \")\n",
    "print(\"The number entered is :\", num)\n",
    "uniqDig = set(num)\n",
    "print(uniqDig)\n",
    "for elem in uniqDig:\n",
    "    print(elem, \"occurs\", num.count(elem), \"times\")"
   ]
  },
  {
   "cell_type": "markdown",
   "id": "c337f52c",
   "metadata": {},
   "source": [
    "5. Develop a program to print 10 most frequently appearing words in a text file. [Hint: Use\n",
    "dictio- nary with distinct words and their frequency of occurrences. Sort the dictionary in the\n",
    "reverse order of frequency and display dictionary slice of first 10 items]"
   ]
  },
  {
   "cell_type": "code",
   "execution_count": 10,
   "id": "dd91ccbc",
   "metadata": {},
   "outputs": [
    {
     "name": "stdout",
     "output_type": "stream",
     "text": [
      "Top 10 most occuring words in given file area\n",
      "\n",
      "word:of with occurance 7\n",
      "word:topics with occurance 4\n",
      "word:to with occurance 4\n",
      "word:a with occurance 4\n",
      "word:essay with occurance 4\n",
      "word:from with occurance 4\n",
      "word:is with occurance 4\n",
      "word:can with occurance 3\n",
      "word:and with occurance 3\n",
      "word:for with occurance 3\n"
     ]
    }
   ],
   "source": [
    "file = open(\"H:\\\\Codeing\\\\College Works\\\\Python Programing\\\\hello.txt\",'r')\n",
    "freq_dict={}\n",
    "for line in file.readlines():\n",
    "    for word in line.split():\n",
    "        if word not in freq_dict:\n",
    "            freq_dict[word]=1\n",
    "        else:\n",
    "            freq_dict[word]+=1\n",
    "file.close()\n",
    "freq_words=sorted(freq_dict.items(),key=lambda x: x[1],reverse=True)[:10]\n",
    "print(\"Top 10 most occuring words in given file area\\n\")\n",
    "for x in freq_words:\n",
    "    print(\"word:\"+x[0]+\" with occurance \"+str(x[1]))"
   ]
  },
  {
   "cell_type": "markdown",
   "id": "ff076590",
   "metadata": {},
   "source": [
    "6. Develop a program to sort the contents of a text file and write the sorted contents into a separate\n",
    "text file. [Hint: Use string methods strip(), len(), list methods sort(), append(), and file methods open(),\n",
    "readlines(), and write()]."
   ]
  },
  {
   "cell_type": "code",
   "execution_count": 11,
   "id": "5fb66794",
   "metadata": {},
   "outputs": [
    {
     "name": "stdout",
     "output_type": "stream",
     "text": [
      "lenght of list is  5\n",
      "file are sorting\n",
      "['100', '400', '5th,', '6th,', '7th,', '8th', 'An', 'English', 'Essay', 'Essay', 'Essays', 'Following', 'Following', 'In', 'It', 'The', 'We', 'We', 'While', 'a', 'a', 'a', 'a', 'about', 'about', 'adding', 'all', 'an', 'and', 'and', 'and', 'any', 'anyone.', 'are', 'are', 'argumentative', 'article,', 'author.', 'autobiography', 'be', 'be', 'best', 'biography,', 'block', 'but', 'can', 'can', 'can', 'categories', 'collection', 'college', 'college', 'come', 'content', 'different', 'difficult', 'environment', 'essay', 'essay', 'essay', 'essay', 'essay.', 'essays', 'essays', 'essays,', 'essays,', 'essays.', 'etc.', 'face', 'for', 'for', 'for', 'formal', 'from', 'from', 'from', 'from', 'good', 'grades.', 'great', 'hard', 'have', 'have', 'high', 'ideas', 'in', 'informal.', 'is', 'is', 'is', 'is', 'kids', 'language', 'largest', 'like', 'list', 'list', 'list', 'many', 'many', 'more', 'nothing', 'of', 'of', 'of', 'of', 'of', 'of', 'of', 'on', 'or', 'or', 'out', 'pamphlet,', 'perception', 'piece', 'school', 'similar', 'soon!', 'story,', 'students', 'students', 'students.', 'technology,', 'the', 'the', 'the', 'thesis,', 'thing', 'think', 'this', 'time', 'to', 'to', 'to', 'to', 'topics', 'topics', 'topics', 'topics', 'topics.', 'type', 'up', 'use', 'we', 'which', 'will', 'will', 'with.', 'writer', 'writer’s', 'writing', 'written', 'you', '–', '–']\n"
     ]
    }
   ],
   "source": [
    "readfile=open(\"H:\\\\Codeing\\\\College Works\\\\Python Programing\\\\hello.txt\",'r')\n",
    "words=[]\n",
    "for line in readfile.readlines():\n",
    "    temp=line.split()\n",
    "    for word in temp:\n",
    "        word=word.strip()\n",
    "        words.append(word)\n",
    "readfile.close()\n",
    "print(\"lenght of list is \",len(word))\n",
    "words.sort()\n",
    "print(\"file are sorting\")\n",
    "print(words)\n",
    "sortedfile=open(\"H:\\\\Codeing\\\\College Works\\\\Python Programing\\\\sortedfile.txt\",'w')\n",
    "for word in words:\n",
    "    sortedfile.writelines(word)\n",
    "    sortedfile.writelines(\"\\n\")\n",
    "sortedfile.close()"
   ]
  },
  {
   "cell_type": "markdown",
   "id": "ac6256cc",
   "metadata": {},
   "source": [
    "7. Develop a program to backing Up a given Folder (Folder in a current working directory) into a ZIP File\n",
    "by using relevant modules and suitable methods."
   ]
  },
  {
   "cell_type": "code",
   "execution_count": 12,
   "id": "e8d35ee9",
   "metadata": {},
   "outputs": [
    {
     "name": "stdout",
     "output_type": "stream",
     "text": [
      "Creating Hello_2.zip...\n",
      "Adding files in H:\\Codeing\\College Works\\Python Programing\\Hello...\n",
      "Done.\n"
     ]
    }
   ],
   "source": [
    "import zipfile, os\n",
    "\n",
    "def backupToZip(folder):\n",
    "    folder = os.path.abspath(folder)\n",
    "    number = 1 \n",
    "    while True:\n",
    "        zipFilename = os.path.basename(folder) + '_' + str(number) + '.zip'\n",
    "        if not os.path.exists(zipFilename):\n",
    "            break\n",
    "        number += 1\n",
    "    print('Creating %s...' % (zipFilename)) \n",
    "    backupZip = zipfile.ZipFile(zipFilename, 'w') \n",
    "    for foldername, subfolders, filenames in os.walk(folder):\n",
    "        print('Adding files in %s...' % (foldername))\n",
    "        for filename in filenames:\n",
    "            newBase = os.path.basename(folder)     \n",
    "            if filename.startswith(newBase) and filename.endswith('.zip'):\n",
    "                continue\n",
    "            backupZip.write(os.path.join(foldername, filename))\n",
    "    backupZip.close()\n",
    "    print('Done.')\n",
    "\n",
    "backupToZip(r'H:\\Codeing\\College Works\\Python Programing\\Hello')"
   ]
  },
  {
   "cell_type": "markdown",
   "id": "9f902553",
   "metadata": {},
   "source": [
    "8. Write a function named DivExp which takes TWO parameters a, b and returns a value c (c=a/b). Write\n",
    "suitable assertion for a>0 in function DivExp and raise an exception for when b=0. Develop a suitable\n",
    "program which reads two values from the console and calls a function DivExp"
   ]
  },
  {
   "cell_type": "code",
   "execution_count": 14,
   "id": "4ea1ba0c",
   "metadata": {},
   "outputs": [
    {
     "name": "stdout",
     "output_type": "stream",
     "text": [
      "Enter first number10\n",
      "Enter second number2\n",
      "5.0\n"
     ]
    }
   ],
   "source": [
    "def DivExp(a,b):\n",
    "    try:\n",
    "        c=a/b\n",
    "        print(c)\n",
    "    except ZeroDivisionError:\n",
    "        print(\"Error:Denominator cannot be zero/canot diveide by zero\")\n",
    "num1=int(input(\"Enter first number\"))\n",
    "num2=int(input(\"Enter second number\"))\n",
    "DivExp(num1,num2)"
   ]
  },
  {
   "cell_type": "markdown",
   "id": "bdd9a70e",
   "metadata": {},
   "source": [
    "9. Define a function which takes TWO objects representing complex numbers and returns new complex\n",
    "number with a addition of two complex numbers. Define a suitable class ‘Complex’ to represent the\n",
    "complex number. Develop a program to read N (N >=2) complex numbers and to compute the addition of N\n",
    "complex numbers."
   ]
  },
  {
   "cell_type": "code",
   "execution_count": 15,
   "id": "4055b037",
   "metadata": {},
   "outputs": [
    {
     "name": "stdout",
     "output_type": "stream",
     "text": [
      "Enter first complex number\n",
      "Enter the Real Part: 2\n",
      "Enter the Imaginary Part: 5\n",
      "First Complex Number: \n",
      "2 + 5 i\n",
      "Enter second complex number\n",
      "Enter the Real Part: 5\n",
      "Enter the Imaginary Part: 8\n",
      "Second Complex Number: \n",
      "5 + 8 i\n",
      "Sum of two complex numbers is \n",
      "7 + 13 i\n"
     ]
    }
   ],
   "source": [
    "class Complex ():\n",
    "    def initComplex(self):\n",
    "        self.realPart = int(input(\"Enter the Real Part: \"))\n",
    "        self.imgPart = int(input(\"Enter the Imaginary Part: \"))\n",
    "    def display(self):\n",
    "        #print(str(self.realPart)+\"+\"+ str(self.imgPart)+\"i\")\n",
    "        print(self.realPart,\"+\",self.imgPart,\"i\")\n",
    "    def sum(self, c1, c2):\n",
    "        self.realPart = c1.realPart + c2.realPart\n",
    "        self.imgPart = c1.imgPart + c2.imgPart\n",
    "c1 = Complex()\n",
    "c2 = Complex()\n",
    "c3 = Complex()\n",
    "print(\"Enter first complex number\")\n",
    "c1.initComplex()\n",
    "print(\"First Complex Number: \")\n",
    "c1.display()\n",
    "print(\"Enter second complex number\")\n",
    "c2.initComplex()\n",
    "print(\"Second Complex Number: \")\n",
    "c2.display()\n",
    "print(\"Sum of two complex numbers is \")\n",
    "c3.sum(c1,c2)\n",
    "c3.display()"
   ]
  },
  {
   "cell_type": "markdown",
   "id": "102e7087",
   "metadata": {},
   "source": [
    "10. Develop a program that uses class Student which prompts the user to enter marks in three subjects and\n",
    "calculates total marks, percentage and displays the score card details. [Hint: Use list to store the marks in\n",
    "three subjects and total marks. Use init () method to initialize name, USN and the lists to store marks\n",
    "and total, Use getMarks() method to read marks into the list, and display() method to display the score card\n",
    "details.]"
   ]
  },
  {
   "cell_type": "code",
   "execution_count": 16,
   "id": "0bf3b637",
   "metadata": {},
   "outputs": [
    {
     "name": "stdout",
     "output_type": "stream",
     "text": [
      "Enter name: Sigma\n",
      "Enter USN: Sigma@10\n",
      "enter sub1marks100\n",
      "enter sub2marks99\n",
      "enter sub3marks97\n",
      "Name: Sigma\n",
      "USN: Sigma@10\n",
      "Marks: [100, 99, 97]\n",
      "Total: 296\n",
      "Percentage: 98.66666666666667\n"
     ]
    }
   ],
   "source": [
    "class Studentdetail:\n",
    "    def use_init(self):\n",
    "        name = input(\"Enter name: \")\n",
    "        usn = input(\"Enter USN: \")\n",
    "        self.name = name\n",
    "        self.usn = usn\n",
    "        self.marks = []\n",
    "        self.total = 0\n",
    "    def getMarks(self):\n",
    "        m1=int(input(\"enter sub1marks\") )\n",
    "        m2=int(input(\"enter sub2marks\") )\n",
    "        m3=int(input(\"enter sub3marks\"))\n",
    "        self.marks.append(m1)\n",
    "        self.marks.append(m2)\n",
    "        self.marks.append(m3)\n",
    "        self.total=int(m1+m2+m3)\n",
    "    def display(self):\n",
    "        print(\"Name:\", self.name)\n",
    "        print(\"USN:\", self.usn)\n",
    "        print(\"Marks:\", self.marks)\n",
    "        print(\"Total:\", self.total)\n",
    "        print(\"Percentage:\", self.total/3)\n",
    "# Main program\n",
    "student = Studentdetail()\n",
    "student.use_init()\n",
    "student.getMarks()\n",
    "student.display()"
   ]
  },
  {
   "cell_type": "code",
   "execution_count": null,
   "id": "a1fd1242",
   "metadata": {},
   "outputs": [],
   "source": []
  }
 ],
 "metadata": {
  "kernelspec": {
   "display_name": "Python 3 (ipykernel)",
   "language": "python",
   "name": "python3"
  },
  "language_info": {
   "codemirror_mode": {
    "name": "ipython",
    "version": 3
   },
   "file_extension": ".py",
   "mimetype": "text/x-python",
   "name": "python",
   "nbconvert_exporter": "python",
   "pygments_lexer": "ipython3",
   "version": "3.11.5"
  }
 },
 "nbformat": 4,
 "nbformat_minor": 5
}
